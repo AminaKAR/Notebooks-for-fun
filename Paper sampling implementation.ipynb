{
 "cells": [
  {
   "cell_type": "markdown",
   "metadata": {},
   "source": [
    "ECHANTILLONAGE DIRECT DE L'ESPACE DES MOTIFS"
   ]
  },
  {
   "cell_type": "markdown",
   "metadata": {},
   "source": [
    "# Sommaire"
   ]
  },
  {
   "cell_type": "markdown",
   "metadata": {},
   "source": [
    "Introduction\n",
    "\n",
    "I) La fonction subset\n",
    "    \n",
    "    I-1) Problématique et algorithme proposé\n",
    "    \n",
    "    I-2) Modélisation probabiliste\n",
    "    \n",
    "II) Echantillonage des motifs fréquents\n",
    "\n",
    "III) Echantillonage basé sur l'aire\n",
    "\n",
    "IV) Calcul des fréquences et des aires\n",
    "\n",
    "    IV-1) Calcul des fréquences\n",
    "    \n",
    "    IV-2) Calcul des aires \n",
    "    \n",
    "V) Test sur des données réelles\n",
    "\n",
    "    V-1) Test des fonctions fréquent et fréquence\n",
    "    \n",
    "    V-2) Test des fonctions area_based et aire\n",
    "    \n",
    "Conclusion"
   ]
  },
  {
   "cell_type": "markdown",
   "metadata": {},
   "source": [
    "# Introduction"
   ]
  },
  {
   "cell_type": "markdown",
   "metadata": {},
   "source": [
    "L’article étudié **Direct Local pattern Sampling by Efficient two-step random procédures (par Boley, M., Lucchese, C., Paurat, D., & Gärtner, T. (2011, August) présente plusieurs algorithmes d'échantillonnage de motifs locaux directs. qui peuvent être utilisés comme une **alternative** aux méthodes **exhaustives**.\n",
    "\n",
    "Les avantages d'utiliser ces algorithmes sont une complexité temporelle optimale par motif ainsi qu'une distribution bien contrôlée des motifs générés.Ces algorithmes peuvent échantillonner des motifs basés sur la fréquence, l'aire, la fréquence au carré et la mesure de classe discriminatoire.\n",
    "\n",
    "L'objectif  est d’implémenter les algorithmes d’échantillonnage de motifs par rapport à la fréquence et à l’aire décrits dans l'article ci-dessus avec le language de programmation python, de les appliquer et les tester sur plusieurs datasets réelles pour finalement pouvoir réaliser une étude empirique. Cette étude devrait nous permettre de vérifier la qualité de l'échantillonnage fait. "
   ]
  },
  {
   "cell_type": "markdown",
   "metadata": {},
   "source": [
    "\n",
    "# I) La fonction subset"
   ]
  },
  {
   "cell_type": "markdown",
   "metadata": {},
   "source": [
    "## I-1) Problématique et algorithme proposé"
   ]
  },
  {
   "cell_type": "markdown",
   "metadata": {},
   "source": [
    "### La problématique"
   ]
  },
  {
   "cell_type": "markdown",
   "metadata": {},
   "source": [
    "L'algorithme d’échantillonnage des motifs fréquents qui est présenté dans l'article nécessite de savoir générer, pour un ensemble $E$ donné, un sous-ensemble $s$ de $E$ selon une loi uniforme sur $\\mathcal{P}(E)$. Une approche naive pour réaliser cela serait de mettre dans une liste P tous les sous-ensembles de $E$ et d'entrer en paramétre cette liste dans une fonction du type np.random.choice. Cela est impossible à réaliser sur de grosses données car la liste P a une taille de $2^{|E|}$.  \n",
    "\n",
    "D'ou la nécessité de créer une fonction qui permet d'effectuer cette tâche avec une complexité algorithmique raisonnable.   \n",
    "\n",
    "La fonction **subset**, dont l'algorithme est décrit dans la section qui suit, répond a ce critère. Elle a une complexité en $O(|E|)$."
   ]
  },
  {
   "cell_type": "markdown",
   "metadata": {},
   "source": [
    "### L'algorithme de la fonction subset"
   ]
  },
  {
   "cell_type": "markdown",
   "metadata": {},
   "source": [
    "**Entrée :** Une liste $E$ de taille $n$.\n",
    "\n",
    "**Etape 1 :** On tire \"au hasard\" un entier $k$ entre $0$ et $n$.\n",
    "\n",
    "**Etape 2 :** On tire,successivement, sans remise et selon une loi uniforme, $k$ élements de E. On range ces élements dans une liste $s$ qu'on trie \n",
    "   \n",
    "   (on peut trier la liste s car on ne tient pas compte de l'ordre de tirage).\n",
    "\n",
    "**Sortie :** On retourne $s$"
   ]
  },
  {
   "cell_type": "markdown",
   "metadata": {},
   "source": [
    "Nous avons volontairement omis de mentionner **la loi de probabilité** suivant laquelle on tire l'entier $k$ entre $0$ et $n$.  \n",
    "Nous allons lever cette ambiguïté dans les lignes qui suivent. Mais d'abord il est nécessaire d'introduire quelques notations."
   ]
  },
  {
   "cell_type": "markdown",
   "metadata": {},
   "source": [
    "## I-2) Modélisation probabiliste"
   ]
  },
  {
   "cell_type": "markdown",
   "metadata": {},
   "source": [
    "Soit $K$ la variable aléatoire modélisant l'issue de l'étape 1 et $S$ la variable aléatoire modélisant l'issue de l'étape 2."
   ]
  },
  {
   "cell_type": "markdown",
   "metadata": {},
   "source": [
    "**On cherche une condition nécessaire et suffisante sur la loi de $K$ pour que $S$ suive la loi $\\mathcal{U}(\\mathcal{P}(E))$** (loi uniforme sur $\\mathcal{P}(E)$)"
   ]
  },
  {
   "cell_type": "markdown",
   "metadata": {},
   "source": [
    "### Condition nécessaire "
   ]
  },
  {
   "cell_type": "markdown",
   "metadata": {},
   "source": [
    "Supposons que $S$ suit la loi $\\mathcal{U}(\\mathcal{P}(E))$ \n",
    "\n",
    "En d'autres termes : $$\\forall s \\in \\mathcal{P}(E),\\ P(S=s)=\\frac{1}{|\\mathcal{P}(E)|}=\\frac{1}{2^{n}}$$\n",
    "\n",
    "Soit $k$ un entier tel que $0\\leq k\\leq n$.\n",
    "\n",
    "On pose $A_k=\\big\\{s\\in \\mathcal{P}(E)\\ \\big |\\   |s|=k\\big\\}$\n",
    "\n",
    "**Lemme :** Les évenements $(K=k)$ et $(S\\in A_k)$ sont équiprobables.\n"
   ]
  },
  {
   "cell_type": "markdown",
   "metadata": {},
   "source": [
    "On a, d'après le lemme,  $$\\begin{eqnarray*}\n",
    "        P(K=k)&=&P(S\\in A_k)\\\\\n",
    "        &=& \\sum_{s\\in{A_k}}P(S=s) \\\\\n",
    "        &=& \\sum_{s\\in{A_k}}\\frac{1}{2^{n}}\\\\\n",
    "        &=&|A_k|\\times \\frac{1}{2^{n}}\\\\\n",
    "        &=&\\binom{n}{k}\\frac{1}{2^{k}}\\frac{1}{2^{n-k}} \\ \\ \\ \\ \\ \\text{ car }|A_k|=\\binom{n}{k}\n",
    "\\end{eqnarray*}$$\n",
    "\n",
    "**Donc $K$ suit la loi $\\color{blue}{\\mathcal{Bin}(n,\\frac{1}{2})}$**"
   ]
  },
  {
   "cell_type": "markdown",
   "metadata": {},
   "source": [
    "**Preuve du lemme :**  \n",
    "\n",
    "$\\bullet$ Si l'évènement $(K=k)$ est réalisé a l'issue de l'étape 1, alors, dans l'étape 2, on effectue $k$ tirages qu'on range dans une liste $s$. Cette liste $s$, retournée en sortie, est de taille $k$. D'ou $(S\\in A_k)$ est réalisé.\n",
    "\n",
    "$\\bullet$ Inversement si $(S\\in A_k)$ est réalisé, cela veut dire que la liste $s$ retournée en sortie est de taille $k$. Cela implique qu'on a obtenu l'entier $k$ a l'issue de l'étape 1 de l'algorithme. D'ou (K=k) est realisé "
   ]
  },
  {
   "cell_type": "markdown",
   "metadata": {},
   "source": [
    "### Condition suffisante"
   ]
  },
  {
   "cell_type": "markdown",
   "metadata": {},
   "source": [
    "Montrons qu'il est suffisant que $K$ suive la loi $Bin(n,\\frac{1}{2})$ pour que $S$ suive la loi $\\mathcal{U}(\\mathcal{P}(E))$.\n",
    "\n",
    "Supposons donc que $K$ suit la loi $Bin(n,\\frac{1}{2})$.\n",
    "\n",
    "Soit $s\\in \\mathcal{P}(E)$.\n",
    "\n",
    "On note $k=|s|$.\n",
    "\n",
    "On a : $P(S=s)=P(S=s|K=k)P(K=k)$\n",
    "\n",
    "$(S=s|K=k)$ est l'évenement \"tirer l'ensemble s sachant qu'il est de taille k\".\n",
    "\n",
    "Comme il y a $\\binom{n}{k}$ sous-ensembles de $E$ de taille $k$ et que les élements de $s$ sont tires selon une loi uniforme sur $E$, $$P(S=s|K=k)=\\frac{1}{\\binom{n}{k}}$$\n",
    "Donc $$\\begin{eqnarray*} P(S=s)&=&\\frac{1}{\\binom{n}{k}}\\times \\binom{n}{k}\\frac{1}{2^k}\\frac{1}{2^{n-k}}\\\\\n",
    "&=& \\frac{1}{2^n}\\end{eqnarray*}$$\n",
    "\n",
    "D'ou $S$ suit la loi $\\mathcal{U}(\\mathcal{P}(E))$"
   ]
  },
  {
   "cell_type": "markdown",
   "metadata": {},
   "source": [
    "### Conclusion"
   ]
  },
  {
   "cell_type": "markdown",
   "metadata": {},
   "source": [
    "$\\color{blue}{S\\text{ suit la loi }\\mathcal{U}(\\mathcal{P}(E))\\text{ si et seulement si }K \\text{ suit la loi }Bin(n,\\frac{1}{2}).}$"
   ]
  },
  {
   "cell_type": "markdown",
   "metadata": {},
   "source": [
    "# II) Echantillonage des motifs fréquents"
   ]
  },
  {
   "cell_type": "markdown",
   "metadata": {},
   "source": [
    "Dans la cellule ci-dessous, nous avons écrit deux fonctions :\n",
    "\n",
    "$\\bullet$ La fonction **subset** (décrite dans la section I) qui prend en entrée une liste $E$ et qui retourne une liste $s$ inclue dans $E$. La liste $s$ a été génerée selon une loi uniforme sur $\\mathcal{P}(E)$. \n",
    "\n",
    "$\\bullet$ La fonction **frequence** qui est une implementation de l'algorithme frequency-based sampling de l'article."
   ]
  },
  {
   "cell_type": "code",
   "execution_count": 2,
   "metadata": {},
   "outputs": [
    {
     "name": "stdout",
     "output_type": "stream",
     "text": [
      "Requirement already satisfied: natsort in ./anaconda3/lib/python3.7/site-packages (7.1.0)\n",
      "Note: you may need to restart the kernel to use updated packages.\n"
     ]
    }
   ],
   "source": [
    "pip install natsort"
   ]
  },
  {
   "cell_type": "code",
   "execution_count": 85,
   "metadata": {},
   "outputs": [],
   "source": [
    "import numpy as np\n",
    "from natsort import natsorted\n",
    "\n",
    "def subset(E):#description et preuve de l'algorithme dans la section II\n",
    "    \n",
    "    k=np.random.binomial(n=len(E)+1,p=0.5) \n",
    "    s=np.random.choice(E,size=k,replace=False)\n",
    "    s=list(s)\n",
    "    s=natsorted(s)\n",
    "    return s\n",
    "    \n",
    "    \n",
    "def frequent(D): #D as a list\n",
    "    \n",
    "    d=[len(e) for e in D] #stocke la taille de chaque enregistrement dans d \n",
    "    \n",
    "    try:\n",
    "        d=np.array(d) \n",
    "        w=2**d     #calcul des poids\n",
    "        w=w/sum(w) #normalisation\n",
    "    \n",
    "        #tire un indice dans D selon le vecteur de probas w\n",
    "        i=np.random.choice(len(D),p=w)  \n",
    "        L=list(D[i])\n",
    "        f=subset(L)\n",
    "    \n",
    "        return f\n",
    "    \n",
    "    except ValueError: #il y a des valeurs trop petites dans w\n",
    "                        #On va enlever les lignes qui leur correspondent\n",
    "        print(\"Certaines lignes du dataset sont de trop grande taille par rapport à d'autres \\nSupprimez les lignes de trop grande taille ou de trop petite taille\\nLa valeur retournee est une liste contenant la taille des lignes\")    \n",
    "        return d"
   ]
  },
  {
   "cell_type": "markdown",
   "metadata": {},
   "source": [
    "# III) Echantillonage basé sur l'aire"
   ]
  },
  {
   "cell_type": "markdown",
   "metadata": {},
   "source": [
    "La fonction **area_based** est une implémentation de l'algorithme 2 de l'article"
   ]
  },
  {
   "cell_type": "code",
   "execution_count": 86,
   "metadata": {},
   "outputs": [],
   "source": [
    "def area_based(D):\n",
    "    \n",
    "    D=[e for e in D if e!=[]]\n",
    "    \n",
    "    #poids#\n",
    "    try:\n",
    "        d=[len(e) for e in D] \n",
    "        d=np.array(d) \n",
    "        w=d*2**(d-1) \n",
    "        w=w/sum(w)\n",
    "    \n",
    "        #choisir un indice dans D selon les poids#\n",
    "        i=np.random.choice(len(D),p=w)\n",
    "    \n",
    "        #choisir une taille k entre 0 et |D[i]|#\n",
    "        L=D[i]\n",
    "        m=len(L)\n",
    "        p_k=np.arange(m)\n",
    "        p_k=p_k/sum(p_k)\n",
    "        k=np.random.choice(np.arange(1,m+1),p=p_k) \n",
    "    \n",
    "        #choisir un element parmi les sous ensemble de D[i] \n",
    "        #de taille k\n",
    "    \n",
    "        f=np.random.choice(L,size=k,replace=False)\n",
    "        f=list(f)\n",
    "        f=natsorted(f)\n",
    "        return f\n",
    "    \n",
    "    except ValueError: #il y a des valeurs trop petites dans w\n",
    "                        #On va enlever les lignes qui leur correspondent\n",
    "        print(\"Certaines lignes du dataset sont de trop grande taille par rapport à d'autres\\nSupprimez les lignes de trop grande taille ou de trop petite taille\\nLa valeur retournee est une liste contenant la taille des lignes\")    \n",
    "        return d"
   ]
  },
  {
   "cell_type": "markdown",
   "metadata": {},
   "source": [
    "# IV) Calcul des fréquences et des aires "
   ]
  },
  {
   "cell_type": "markdown",
   "metadata": {},
   "source": [
    "## IV-1) Calcul des fréquences"
   ]
  },
  {
   "cell_type": "markdown",
   "metadata": {},
   "source": [
    "La fonction count (frequence respectivement) retourne une liste contenant les supports (frequences respectivement) des motifs de la liste m dans le dataset D."
   ]
  },
  {
   "cell_type": "code",
   "execution_count": 87,
   "metadata": {},
   "outputs": [],
   "source": [
    "def subset_bool(m,U): #teste si m est un sous-ensemble de U \n",
    "    if len(U)<len(m):\n",
    "        return False\n",
    "    \n",
    "    U1=list(U)\n",
    "    for i in range(len(m)):\n",
    "        if m[i] not in U1:\n",
    "            return False\n",
    "        U1.remove(m[i])\n",
    "        \n",
    "    return True\n",
    "\n",
    "\n",
    "def count(D,m): #D le dataset et m la liste                 \n",
    "                #de k motifs frequents\n",
    "    k=len(m)\n",
    "    count=[0]*k\n",
    "    for e in D:\n",
    "        for i in range(len(m)):\n",
    "            if subset_bool(m[i],e):\n",
    "                count[i]+=1\n",
    "    return count\n",
    "\n",
    "def frequence(D,m):\n",
    "    support=count(D,m)\n",
    "    support=np.array(support)\n",
    "    n=len(D)\n",
    "    return support/n\n"
   ]
  },
  {
   "cell_type": "markdown",
   "metadata": {},
   "source": [
    "## IV-2) Calcul des aires"
   ]
  },
  {
   "cell_type": "markdown",
   "metadata": {},
   "source": [
    "La fonction aire retourne une liste contenant les aires des motifs de la liste m dans le dataset D."
   ]
  },
  {
   "cell_type": "code",
   "execution_count": 88,
   "metadata": {},
   "outputs": [],
   "source": [
    "def aire(D,m):\n",
    "    support=count(D,m)\n",
    "    support=np.array(support)\n",
    "    size=[len(e) for e in m]\n",
    "    size=np.array(size)\n",
    "    return support*size"
   ]
  },
  {
   "cell_type": "markdown",
   "metadata": {},
   "source": [
    "# V) Test sur des données réelles"
   ]
  },
  {
   "cell_type": "code",
   "execution_count": 89,
   "metadata": {},
   "outputs": [],
   "source": [
    "def load(path):\n",
    "    try:\n",
    "        text=open(path,\"r\")\n",
    "        D=[(line.strip()).split() for line in text]\n",
    "        text.close()\n",
    "        return D\n",
    "    except FileNotFoundError :\n",
    "        print(\"Enregistrez le fichier .txt dans le repertoire contenant le fichier .ipynb\\\n",
    " ou passez tout son chemin en parametre\")"
   ]
  },
  {
   "cell_type": "markdown",
   "metadata": {},
   "source": [
    "## V-1) Test des fonctions frequent et frequence"
   ]
  },
  {
   "cell_type": "markdown",
   "metadata": {},
   "source": [
    "### Test sur chess.txt"
   ]
  },
  {
   "cell_type": "code",
   "execution_count": 93,
   "metadata": {},
   "outputs": [],
   "source": [
    "D=load(\"chess.txt\")"
   ]
  },
  {
   "cell_type": "markdown",
   "metadata": {},
   "source": [
    "On appelle la fonction **frequent** 100 fois et on observe leurs fréquences dans le dataset D"
   ]
  },
  {
   "cell_type": "code",
   "execution_count": 95,
   "metadata": {},
   "outputs": [],
   "source": [
    "m=[]\n",
    "for i in range(100):\n",
    "    f=frequent(D)\n",
    "    m+=[f]\n",
    "    \n",
    "freq=frequence(D,m)\n"
   ]
  },
  {
   "cell_type": "markdown",
   "metadata": {},
   "source": [
    "Parmi les 100 motifs generes, on visualise le motif le plus frequent dans le dataset: "
   ]
  },
  {
   "cell_type": "code",
   "execution_count": 96,
   "metadata": {},
   "outputs": [
    {
     "data": {
      "text/plain": [
       "['5', '7', '15', '29', '34', '39', '40', '50', '52', '56', '60', '66']"
      ]
     },
     "execution_count": 96,
     "metadata": {},
     "output_type": "execute_result"
    }
   ],
   "source": [
    "p=np.argmax(freq)\n",
    "m[p]"
   ]
  },
  {
   "cell_type": "markdown",
   "metadata": {},
   "source": [
    "On calcule la fréquence *freq_obs* de ce motif dans la liste de 100 motifs que nous avons generes "
   ]
  },
  {
   "cell_type": "code",
   "execution_count": 97,
   "metadata": {},
   "outputs": [
    {
     "data": {
      "text/plain": [
       "0.01"
      ]
     },
     "execution_count": 97,
     "metadata": {},
     "output_type": "execute_result"
    }
   ],
   "source": [
    "freq_obs=1\n",
    "l=list(range(100))\n",
    "l.remove(p)\n",
    "for i in l:\n",
    "    if subset_bool(m[p],m[i]) and subset_bool(m[i],m[p]):\n",
    "        freq_obs+=1\n",
    "        \n",
    "freq_obs=freq_obs/100\n",
    "freq_obs"
   ]
  },
  {
   "cell_type": "markdown",
   "metadata": {},
   "source": [
    "Comparons **freq_obs** a la fréquence du motifs dans le dataset."
   ]
  },
  {
   "cell_type": "code",
   "execution_count": 98,
   "metadata": {},
   "outputs": [
    {
     "data": {
      "text/plain": [
       "(0.07916145181476845, [253], 3196)"
      ]
     },
     "execution_count": 98,
     "metadata": {},
     "output_type": "execute_result"
    }
   ],
   "source": [
    "freq[p],count(D,[m[p]]),len(D)"
   ]
  },
  {
   "cell_type": "code",
   "execution_count": 99,
   "metadata": {},
   "outputs": [
    {
     "data": {
      "text/plain": [
       "11.917098445595856"
      ]
     },
     "execution_count": 99,
     "metadata": {},
     "output_type": "execute_result"
    }
   ],
   "source": [
    "freq[p]/np.mean(freq)"
   ]
  },
  {
   "cell_type": "markdown",
   "metadata": {},
   "source": [
    "On peut voir que le motif **m[p]** est fréquent dans le dataset par rapport aux autres motifs de l'échantillon. En revanche, il n'est pas trés bien représente dans l'échantillon (car freq_obs vaut $0.01$). Il suffit de calculer le rapport $\\frac{freq[p]}{freq\\_obs}$ pour se rendre compte que ces deux fréquences sont loins d'être comparables."
   ]
  },
  {
   "cell_type": "code",
   "execution_count": 100,
   "metadata": {},
   "outputs": [
    {
     "data": {
      "text/plain": [
       "7.916145181476845"
      ]
     },
     "execution_count": 100,
     "metadata": {},
     "output_type": "execute_result"
    }
   ],
   "source": [
    "freq[p]/freq_obs"
   ]
  },
  {
   "cell_type": "code",
   "execution_count": 101,
   "metadata": {},
   "outputs": [
    {
     "data": {
      "text/plain": [
       "54"
      ]
     },
     "execution_count": 101,
     "metadata": {},
     "output_type": "execute_result"
    }
   ],
   "source": [
    "p"
   ]
  },
  {
   "cell_type": "markdown",
   "metadata": {},
   "source": [
    "Le motif n'est pas fréquent dans notre échantillon. De plus, il faut 43 itérations pour le génerer. Enfin il n'a qu'une fréquence de 7% dans le dataset. Etudions son comportement sur un deuxiéme dataset"
   ]
  },
  {
   "cell_type": "markdown",
   "metadata": {},
   "source": [
    "### Test sur mushrooms.txt"
   ]
  },
  {
   "cell_type": "code",
   "execution_count": 102,
   "metadata": {},
   "outputs": [],
   "source": [
    "D1=load(\"mushrooms.txt\")"
   ]
  },
  {
   "cell_type": "markdown",
   "metadata": {},
   "source": [
    "Appel de  la fonction **frequent** 100 fois :"
   ]
  },
  {
   "cell_type": "code",
   "execution_count": 103,
   "metadata": {},
   "outputs": [],
   "source": [
    "m=[]\n",
    "for i in range(100):\n",
    "    f=frequent(D1)\n",
    "    m+=[f]\n",
    "    \n",
    "freq=frequence(D1,m)\n"
   ]
  },
  {
   "cell_type": "code",
   "execution_count": 104,
   "metadata": {},
   "outputs": [
    {
     "data": {
      "text/plain": [
       "['38', '42', '45', '71', '94', '97', '120']"
      ]
     },
     "execution_count": 104,
     "metadata": {},
     "output_type": "execute_result"
    }
   ],
   "source": [
    "p=np.argmax(freq)\n",
    "m[p]\n"
   ]
  },
  {
   "cell_type": "markdown",
   "metadata": {},
   "source": [
    "On calcule la fréquence *freq_obs* de ce motif dans la liste de 100 motifs que nous avons géneres "
   ]
  },
  {
   "cell_type": "code",
   "execution_count": 105,
   "metadata": {},
   "outputs": [
    {
     "data": {
      "text/plain": [
       "0.01"
      ]
     },
     "execution_count": 105,
     "metadata": {},
     "output_type": "execute_result"
    }
   ],
   "source": [
    "freq_obs=1\n",
    "l=list(range(100))\n",
    "l.remove(p)\n",
    "for i in l:\n",
    "    if subset_bool(m[p],m[i]) and subset_bool(m[i],m[p]):\n",
    "        freq_obs+=1\n",
    "        \n",
    "freq_obs=freq_obs/100\n",
    "freq_obs"
   ]
  },
  {
   "cell_type": "markdown",
   "metadata": {},
   "source": [
    "Comparons **freq_obs** à la fréquence du motifs dans le dataset"
   ]
  },
  {
   "cell_type": "code",
   "execution_count": 106,
   "metadata": {},
   "outputs": [
    {
     "data": {
      "text/plain": [
       "(0.10266159695817491, [864], 8416)"
      ]
     },
     "execution_count": 106,
     "metadata": {},
     "output_type": "execute_result"
    }
   ],
   "source": [
    "freq[p],count(D1,[m[p]]),len(D1)"
   ]
  },
  {
   "cell_type": "code",
   "execution_count": 107,
   "metadata": {},
   "outputs": [
    {
     "data": {
      "text/plain": [
       "19.018269865727493"
      ]
     },
     "execution_count": 107,
     "metadata": {},
     "output_type": "execute_result"
    }
   ],
   "source": [
    "freq[p]/np.mean(freq)"
   ]
  },
  {
   "cell_type": "code",
   "execution_count": 108,
   "metadata": {},
   "outputs": [
    {
     "data": {
      "text/plain": [
       "10.26615969581749"
      ]
     },
     "execution_count": 108,
     "metadata": {},
     "output_type": "execute_result"
    }
   ],
   "source": [
    "freq[p]/freq_obs"
   ]
  },
  {
   "cell_type": "markdown",
   "metadata": {},
   "source": [
    "On peut voir que le motif **m[p]** est fréquent dans le dataset par rapport aux autres motifs de l'échantillon. Parcontre on trouve aussi pour ce dataset le motif fréquent n'est pas trés bien représente dans l'échantillon avec freq_obs vaut $0.01$. "
   ]
  },
  {
   "cell_type": "code",
   "execution_count": 109,
   "metadata": {},
   "outputs": [
    {
     "data": {
      "text/plain": [
       "12"
      ]
     },
     "execution_count": 109,
     "metadata": {},
     "output_type": "execute_result"
    }
   ],
   "source": [
    "p"
   ]
  },
  {
   "cell_type": "markdown",
   "metadata": {},
   "source": [
    "En calculant le rapport $\\frac{freq[p]}{freq\\_obs}$ on comprend que la fréquence calculée par l'algrithme et celle qu'on tire du fichier sont considérablements loins en valeur.\n",
    "\n",
    "C'est vrai qu'on nous faut que 10 itérations pour le génerer dans notre échantillon. Mais, il n'a qu'une fréquece de 5% dans le dataset. \n",
    "\n",
    "Il faut noter qu'à chaque fois qu'on génére d'autres motifs les résultats peuvent changer, pauvent s'améliorer ou pas.\n"
   ]
  },
  {
   "cell_type": "markdown",
   "metadata": {},
   "source": [
    "### Test sur connect.txt\n"
   ]
  },
  {
   "cell_type": "code",
   "execution_count": 110,
   "metadata": {},
   "outputs": [],
   "source": [
    "D2=load(\"connect.txt\")"
   ]
  },
  {
   "cell_type": "markdown",
   "metadata": {},
   "source": [
    "Appel de  la fonction **frequent** 100 fois :"
   ]
  },
  {
   "cell_type": "code",
   "execution_count": 112,
   "metadata": {},
   "outputs": [],
   "source": [
    "m=[]\n",
    "for i in range(100):\n",
    "    f=frequent(D2)\n",
    "    m+=[f]\n",
    "    \n",
    "freq=frequence(D2,m)\n"
   ]
  },
  {
   "cell_type": "code",
   "execution_count": 113,
   "metadata": {},
   "outputs": [
    {
     "data": {
      "text/plain": [
       "['13',\n",
       " '19',\n",
       " '31',\n",
       " '46',\n",
       " '49',\n",
       " '52',\n",
       " '60',\n",
       " '63',\n",
       " '66',\n",
       " '72',\n",
       " '75',\n",
       " '79',\n",
       " '82',\n",
       " '85',\n",
       " '88',\n",
       " '97',\n",
       " '100',\n",
       " '103',\n",
       " '106',\n",
       " '109',\n",
       " '118',\n",
       " '127']"
      ]
     },
     "execution_count": 113,
     "metadata": {},
     "output_type": "execute_result"
    }
   ],
   "source": [
    "p=np.argmax(freq)\n",
    "m[p]"
   ]
  },
  {
   "cell_type": "code",
   "execution_count": 114,
   "metadata": {},
   "outputs": [
    {
     "data": {
      "text/plain": [
       "0.01"
      ]
     },
     "execution_count": 114,
     "metadata": {},
     "output_type": "execute_result"
    }
   ],
   "source": [
    "freq_obs=1\n",
    "l=list(range(100))\n",
    "l.remove(p)\n",
    "for i in l:\n",
    "    if subset_bool(m[p],m[i]) and subset_bool(m[i],m[p]):\n",
    "        freq_obs+=1\n",
    "        \n",
    "freq_obs=freq_obs/100\n",
    "freq_obs"
   ]
  },
  {
   "cell_type": "markdown",
   "metadata": {},
   "source": [
    "Le motif **m[p]** est fréquent dans le dataset par rapport aux autres motifs de l'échantillon. Parcontre on trouve aussi pour ce dataset le motif fréquent n'est pas trés bien représente dans l'échantillon avec freq_obs vaut $0.01$. "
   ]
  },
  {
   "cell_type": "code",
   "execution_count": 115,
   "metadata": {},
   "outputs": [
    {
     "data": {
      "text/plain": [
       "(0.03426735941501251, [2315], 67557)"
      ]
     },
     "execution_count": 115,
     "metadata": {},
     "output_type": "execute_result"
    }
   ],
   "source": [
    "freq[p],count(D2,[m[p]]),len(D2)"
   ]
  },
  {
   "cell_type": "code",
   "execution_count": 116,
   "metadata": {},
   "outputs": [
    {
     "data": {
      "text/plain": [
       "26.539034735756047"
      ]
     },
     "execution_count": 116,
     "metadata": {},
     "output_type": "execute_result"
    }
   ],
   "source": [
    "freq[p]/np.mean(freq)"
   ]
  },
  {
   "cell_type": "code",
   "execution_count": 117,
   "metadata": {},
   "outputs": [
    {
     "data": {
      "text/plain": [
       "3.4267359415012506"
      ]
     },
     "execution_count": 117,
     "metadata": {},
     "output_type": "execute_result"
    }
   ],
   "source": [
    "freq[p]/freq_obs"
   ]
  },
  {
   "cell_type": "code",
   "execution_count": 118,
   "metadata": {},
   "outputs": [
    {
     "data": {
      "text/plain": [
       "78"
      ]
     },
     "execution_count": 118,
     "metadata": {},
     "output_type": "execute_result"
    }
   ],
   "source": [
    "p"
   ]
  },
  {
   "cell_type": "markdown",
   "metadata": {},
   "source": [
    "En calculant le rapport $\\frac{freq[p]}{freq\\_obs}$ on comprend que la fréquence calculée par l'algrithme et celle qu'on tire du fichier sont considérablements loins en valeur.\n",
    "\n",
    "Il nous faut que 94 itérations pour génerer le motif dans notre échantillon. Ainsi il n'a qu'une fréquence de 6% dans le dataset. \n",
    "\n"
   ]
  },
  {
   "cell_type": "markdown",
   "metadata": {},
   "source": [
    "### Test sur accidents.dat.txt\n"
   ]
  },
  {
   "cell_type": "code",
   "execution_count": 119,
   "metadata": {},
   "outputs": [],
   "source": [
    "D3=load(\"accidents.dat.txt\")"
   ]
  },
  {
   "cell_type": "markdown",
   "metadata": {},
   "source": [
    "Appel de  la fonction **frequent** 100 fois :"
   ]
  },
  {
   "cell_type": "code",
   "execution_count": 121,
   "metadata": {},
   "outputs": [],
   "source": [
    "m=[]\n",
    "for i in range(200):\n",
    "    f=frequent(D3)\n",
    "    m+=[f]\n",
    "    \n",
    "freq=frequence(D3,m)\n"
   ]
  },
  {
   "cell_type": "code",
   "execution_count": 122,
   "metadata": {},
   "outputs": [
    {
     "data": {
      "text/plain": [
       "['1',\n",
       " '9',\n",
       " '12',\n",
       " '16',\n",
       " '17',\n",
       " '26',\n",
       " '27',\n",
       " '29',\n",
       " '31',\n",
       " '41',\n",
       " '56',\n",
       " '68',\n",
       " '72',\n",
       " '84',\n",
       " '108',\n",
       " '135']"
      ]
     },
     "execution_count": 122,
     "metadata": {},
     "output_type": "execute_result"
    }
   ],
   "source": [
    "p=np.argmax(freq)\n",
    "m[p]"
   ]
  },
  {
   "cell_type": "code",
   "execution_count": 123,
   "metadata": {},
   "outputs": [
    {
     "data": {
      "text/plain": [
       "0.01"
      ]
     },
     "execution_count": 123,
     "metadata": {},
     "output_type": "execute_result"
    }
   ],
   "source": [
    "freq_obs=1\n",
    "l=list(range(100))\n",
    "l.remove(p)\n",
    "for i in l:\n",
    "    if subset_bool(m[p],m[i]) and subset_bool(m[i],m[p]):\n",
    "        freq_obs+=1\n",
    "        \n",
    "freq_obs=freq_obs/100\n",
    "freq_obs"
   ]
  },
  {
   "cell_type": "code",
   "execution_count": 124,
   "metadata": {},
   "outputs": [
    {
     "data": {
      "text/plain": [
       "(0.0002792614563337968, [95], 340183)"
      ]
     },
     "execution_count": 124,
     "metadata": {},
     "output_type": "execute_result"
    }
   ],
   "source": [
    "freq[p],count(D3,[m[p]]),len(D3)"
   ]
  },
  {
   "cell_type": "code",
   "execution_count": 125,
   "metadata": {},
   "outputs": [
    {
     "data": {
      "text/plain": [
       "48.34605597964378"
      ]
     },
     "execution_count": 125,
     "metadata": {},
     "output_type": "execute_result"
    }
   ],
   "source": [
    "freq[p]/np.mean(freq)"
   ]
  },
  {
   "cell_type": "code",
   "execution_count": 126,
   "metadata": {},
   "outputs": [
    {
     "data": {
      "text/plain": [
       "0.02792614563337968"
      ]
     },
     "execution_count": 126,
     "metadata": {},
     "output_type": "execute_result"
    }
   ],
   "source": [
    "freq[p]/freq_obs"
   ]
  },
  {
   "cell_type": "code",
   "execution_count": 127,
   "metadata": {},
   "outputs": [
    {
     "data": {
      "text/plain": [
       "45"
      ]
     },
     "execution_count": 127,
     "metadata": {},
     "output_type": "execute_result"
    }
   ],
   "source": [
    "p"
   ]
  },
  {
   "cell_type": "markdown",
   "metadata": {},
   "source": [
    "Le rapport $\\frac{freq[p]}{freq\\_obs}$ on comprend que la fréquence calculée par l'algrithme et celle qu'on tire du fichier sont considérablements proches dans cet exemple ( le rapport est inférieur à 1 ).\n",
    "\n",
    "Il nous faut que 62 itérations pour génerer le motif dans notre échantillon. Ainsi il n'a qu'une fréquence de 0.4% dans le dataset.\n",
    "\n",
    "Meme si pour ce dataset on trouve bien des fréquences qui sont plus proches en valeur, Mais le motif retourné ne représente que 0.4% de la totalité de dataset."
   ]
  },
  {
   "cell_type": "markdown",
   "metadata": {},
   "source": [
    "## V-2) Test des fonctions area_based et aire"
   ]
  },
  {
   "cell_type": "markdown",
   "metadata": {},
   "source": [
    "### Test sur chess.txt\n"
   ]
  },
  {
   "cell_type": "code",
   "execution_count": 128,
   "metadata": {},
   "outputs": [],
   "source": [
    "D=load(\"chess.txt\")"
   ]
  },
  {
   "cell_type": "markdown",
   "metadata": {},
   "source": [
    "Aprés avoir chargé la dataset, on appelle la focntion **area_based ( )** 100 fois et on affiche les aires calculés :"
   ]
  },
  {
   "cell_type": "code",
   "execution_count": 130,
   "metadata": {},
   "outputs": [],
   "source": [
    "m=[]\n",
    "for i in range(100):\n",
    "    f=area_based(D)\n",
    "    m+=[f]\n",
    "a=aire(D,m)\n"
   ]
  },
  {
   "cell_type": "markdown",
   "metadata": {},
   "source": [
    "On tire le motif avec critére aire le plus important:"
   ]
  },
  {
   "cell_type": "code",
   "execution_count": 131,
   "metadata": {},
   "outputs": [
    {
     "data": {
      "text/plain": [
       "['3', '5', '7', '11', '17', '27', '29', '36', '56', '60', '62']"
      ]
     },
     "execution_count": 131,
     "metadata": {},
     "output_type": "execute_result"
    }
   ],
   "source": [
    "p=np.argmax(a)\n",
    "m[p]"
   ]
  },
  {
   "cell_type": "code",
   "execution_count": 132,
   "metadata": {},
   "outputs": [
    {
     "data": {
      "text/plain": [
       "array([2839, 2971, 3076,    0, 3268, 2884, 2734,  400,    0,    0,  212])"
      ]
     },
     "execution_count": 132,
     "metadata": {},
     "output_type": "execute_result"
    }
   ],
   "source": [
    "a1=aire(D,m[p])\n",
    "a1"
   ]
  },
  {
   "cell_type": "code",
   "execution_count": 133,
   "metadata": {},
   "outputs": [
    {
     "data": {
      "text/plain": [
       "array([0.88829787, 0.9295995 , 0.96245307, 0.        , 0.51126408,\n",
       "       0.45118899, 0.42772215, 0.06257822, 0.        , 0.        ,\n",
       "       0.03316646])"
      ]
     },
     "execution_count": 133,
     "metadata": {},
     "output_type": "execute_result"
    }
   ],
   "source": [
    "s=frequence(D,m[p])\n",
    "s"
   ]
  },
  {
   "cell_type": "markdown",
   "metadata": {},
   "source": [
    "On remarque que plus l'aire du motif est important plus sa fréquence retournée par la fonction frequence( ) est élevé"
   ]
  },
  {
   "cell_type": "code",
   "execution_count": 134,
   "metadata": {},
   "outputs": [
    {
     "data": {
      "text/plain": [
       "75"
      ]
     },
     "execution_count": 134,
     "metadata": {},
     "output_type": "execute_result"
    }
   ],
   "source": [
    "p"
   ]
  },
  {
   "cell_type": "markdown",
   "metadata": {},
   "source": [
    "Plus l'aire du motif est important plus sa fréquence est élevée plus il est probable qu'il soit tiré. Il a fallut 49 itérations pour que ce motif soit géneré dans notre échantillon.\n",
    "\n",
    "On remarque pour cet algorithme d'échantillonnage  que la fréquence des motifs retournés est vraiment plus importante que celle donnée par l'algorithme d'échantillonnage de motif basé sur la fréquence."
   ]
  },
  {
   "cell_type": "markdown",
   "metadata": {},
   "source": [
    "### Test sur mushrooms.txt\n"
   ]
  },
  {
   "cell_type": "code",
   "execution_count": 135,
   "metadata": {},
   "outputs": [],
   "source": [
    "D=load(\"mushrooms.txt\")"
   ]
  },
  {
   "cell_type": "markdown",
   "metadata": {},
   "source": [
    "on appelle la focntion **area_based ( )** 100 fois et on affiche les aires calculés :"
   ]
  },
  {
   "cell_type": "code",
   "execution_count": 136,
   "metadata": {},
   "outputs": [],
   "source": [
    "m=[]\n",
    "for i in range(100):\n",
    "    f=area_based(D)\n",
    "    m+=[f]\n",
    "a=aire(D,m)\n"
   ]
  },
  {
   "cell_type": "markdown",
   "metadata": {},
   "source": [
    "On tire le motif avec critére aire le plus important:"
   ]
  },
  {
   "cell_type": "code",
   "execution_count": 137,
   "metadata": {
    "scrolled": true
   },
   "outputs": [
    {
     "data": {
      "text/plain": [
       "['57', '67', '71', '94', '104']"
      ]
     },
     "execution_count": 137,
     "metadata": {},
     "output_type": "execute_result"
    }
   ],
   "source": [
    "p=np.argmax(a)\n",
    "m[p]"
   ]
  },
  {
   "cell_type": "code",
   "execution_count": 138,
   "metadata": {},
   "outputs": [
    {
     "data": {
      "text/plain": [
       "array([0.        , 0.        , 0.02804183, 0.        , 0.        ])"
      ]
     },
     "execution_count": 138,
     "metadata": {},
     "output_type": "execute_result"
    }
   ],
   "source": [
    "s=frequence(D,m[p])\n",
    "s"
   ]
  },
  {
   "cell_type": "code",
   "execution_count": 139,
   "metadata": {},
   "outputs": [
    {
     "data": {
      "text/plain": [
       "46"
      ]
     },
     "execution_count": 139,
     "metadata": {},
     "output_type": "execute_result"
    }
   ],
   "source": [
    "p"
   ]
  },
  {
   "cell_type": "markdown",
   "metadata": {},
   "source": [
    "### Test sur accidents.txt\n"
   ]
  },
  {
   "cell_type": "code",
   "execution_count": 148,
   "metadata": {},
   "outputs": [],
   "source": [
    "D=load(\"accidents.dat.txt\")"
   ]
  },
  {
   "cell_type": "markdown",
   "metadata": {},
   "source": [
    "on appelle la focntion **area_based ( )** 100 fois et on affiche les aires calculés :"
   ]
  },
  {
   "cell_type": "code",
   "execution_count": 149,
   "metadata": {},
   "outputs": [],
   "source": [
    "m=[]\n",
    "for i in range(100):\n",
    "    f=area_based(D)\n",
    "    m+=[f]\n",
    "a=aire(D,m)\n"
   ]
  },
  {
   "cell_type": "markdown",
   "metadata": {},
   "source": [
    "On tire le motif avec critére aire le plus important:"
   ]
  },
  {
   "cell_type": "code",
   "execution_count": 150,
   "metadata": {},
   "outputs": [
    {
     "data": {
      "text/plain": [
       "['1', '19', '21', '23', '39', '63', '74']"
      ]
     },
     "execution_count": 150,
     "metadata": {},
     "output_type": "execute_result"
    }
   ],
   "source": [
    "p=np.argmax(a)\n",
    "m[p]"
   ]
  },
  {
   "cell_type": "code",
   "execution_count": 151,
   "metadata": {},
   "outputs": [
    {
     "data": {
      "text/plain": [
       "array([0.68993454, 0.14144152, 0.08297593, 0.01820785, 0.01530353,\n",
       "       0.00206653, 0.06309251])"
      ]
     },
     "execution_count": 151,
     "metadata": {},
     "output_type": "execute_result"
    }
   ],
   "source": [
    "s=frequence(D,m[p])\n",
    "s"
   ]
  },
  {
   "cell_type": "code",
   "execution_count": 152,
   "metadata": {},
   "outputs": [
    {
     "data": {
      "text/plain": [
       "94"
      ]
     },
     "execution_count": 152,
     "metadata": {},
     "output_type": "execute_result"
    }
   ],
   "source": [
    "p"
   ]
  },
  {
   "cell_type": "markdown",
   "metadata": {},
   "source": [
    "On remarque avec cet algorithme qu'on peut génerer des motifs fréquents au bout de 8 et 4  itération. Chose qui n'était pas possible avec l'algorithme d'échantillonnage de motif basé sur la fréquence."
   ]
  },
  {
   "cell_type": "markdown",
   "metadata": {},
   "source": [
    "# Conclusion"
   ]
  },
  {
   "cell_type": "markdown",
   "metadata": {},
   "source": [
    "On a implémenté les deux algorithmes d'échantillonnage des motifs basé sur la fréquence ainsi que sur l'aire. On a aussi calculé les valeurs réelles de fréquence et d'aire en une seule passe de données.\n",
    "\n",
    "Finalement, On attire l'attention en conclusion de ce Tp sur le fait que pour manipuler des datasets qui sont entre 10^3 et 10^4 des lignes il fallait effectuer un grand nombre de simulations pour générer plus d'échantillon et du coup on pourrait"
   ]
  },
  {
   "cell_type": "code",
   "execution_count": null,
   "metadata": {},
   "outputs": [],
   "source": []
  }
 ],
 "metadata": {
  "kernelspec": {
   "display_name": "Python 3",
   "language": "python",
   "name": "python3"
  },
  "language_info": {
   "codemirror_mode": {
    "name": "ipython",
    "version": 3
   },
   "file_extension": ".py",
   "mimetype": "text/x-python",
   "name": "python",
   "nbconvert_exporter": "python",
   "pygments_lexer": "ipython3",
   "version": "3.7.11"
  }
 },
 "nbformat": 4,
 "nbformat_minor": 4
}
